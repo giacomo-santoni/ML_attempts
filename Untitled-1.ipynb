{
 "cells": [
  {
   "cell_type": "code",
   "execution_count": 12,
   "metadata": {},
   "outputs": [
    {
     "name": "stdout",
     "output_type": "stream",
     "text": [
      "143\n",
      "1345\n"
     ]
    }
   ],
   "source": [
    "import ROOT as root\n",
    "\n",
    "#sensor1.root è il file; ogni camera è un TTree\n",
    "input_file = root.TFile.Open(\"/Users/giacomosantoni/Desktop/TESI/Progetto_ML/blindcams/sensors1.root\", \"READ\")\n",
    "tree = input_file.Get(\"CAM_NB_X0\")\n",
    "entries = tree.GetEntries()\n",
    "\n",
    "\n",
    "for i in range(entries):\n",
    "    n = tree.GetEntry(i)\n",
    "    nr_photons = tree.innerPhotons\n",
    "    if nr_photons: \n",
    "        print(nr_photons)\n"
   ]
  }
 ],
 "metadata": {
  "kernelspec": {
   "display_name": "Python 3",
   "language": "python",
   "name": "python3"
  },
  "language_info": {
   "codemirror_mode": {
    "name": "ipython",
    "version": 3
   },
   "file_extension": ".py",
   "mimetype": "text/x-python",
   "name": "python",
   "nbconvert_exporter": "python",
   "pygments_lexer": "ipython3",
   "version": "3.11.4"
  },
  "orig_nbformat": 4
 },
 "nbformat": 4,
 "nbformat_minor": 2
}

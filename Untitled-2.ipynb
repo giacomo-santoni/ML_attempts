{
 "cells": [
  {
   "cell_type": "code",
   "execution_count": 8,
   "metadata": {},
   "outputs": [
    {
     "ename": "ValueError",
     "evalue": "data type <class 'numpy.int64'> not inexact",
     "output_type": "error",
     "traceback": [
      "\u001b[0;31m---------------------------------------------------------------------------\u001b[0m",
      "\u001b[0;31mValueError\u001b[0m                                Traceback (most recent call last)",
      "Cell \u001b[0;32mIn[8], line 13\u001b[0m\n\u001b[1;32m      8\u001b[0m     \u001b[39mprint\u001b[39m(s2)\n\u001b[1;32m     10\u001b[0m     \u001b[39m# assert_false(s1[0] == s2[0])\u001b[39;00m\n\u001b[1;32m     11\u001b[0m     \u001b[39m# assert_array_equal(s1, np.array([0, 1, 2, 3]))\u001b[39;00m\n\u001b[1;32m     12\u001b[0m     \u001b[39m# assert_array_equal(s2, np.array([1, 1, 2, 3]))\u001b[39;00m\n\u001b[0;32m---> 13\u001b[0m test_handle_zeros_in_scale()\n",
      "Cell \u001b[0;32mIn[8], line 6\u001b[0m, in \u001b[0;36mtest_handle_zeros_in_scale\u001b[0;34m()\u001b[0m\n\u001b[1;32m      4\u001b[0m \u001b[39mdef\u001b[39;00m \u001b[39mtest_handle_zeros_in_scale\u001b[39m():\n\u001b[1;32m      5\u001b[0m     s1 \u001b[39m=\u001b[39m np\u001b[39m.\u001b[39marray([\u001b[39m0\u001b[39m, \u001b[39m1\u001b[39m, \u001b[39m2\u001b[39m, \u001b[39m3\u001b[39m])\n\u001b[0;32m----> 6\u001b[0m     s2 \u001b[39m=\u001b[39m _data\u001b[39m.\u001b[39;49m_handle_zeros_in_scale(s1, copy\u001b[39m=\u001b[39;49m\u001b[39mTrue\u001b[39;49;00m)\n\u001b[1;32m      8\u001b[0m     \u001b[39mprint\u001b[39m(s2)\n",
      "File \u001b[0;32m/opt/homebrew/lib/python3.11/site-packages/sklearn/preprocessing/_data.py:111\u001b[0m, in \u001b[0;36m_handle_zeros_in_scale\u001b[0;34m(scale, copy, constant_mask)\u001b[0m\n\u001b[1;32m    106\u001b[0m \u001b[39melif\u001b[39;00m \u001b[39misinstance\u001b[39m(scale, np\u001b[39m.\u001b[39mndarray):\n\u001b[1;32m    107\u001b[0m     \u001b[39mif\u001b[39;00m constant_mask \u001b[39mis\u001b[39;00m \u001b[39mNone\u001b[39;00m:\n\u001b[1;32m    108\u001b[0m         \u001b[39m# Detect near constant values to avoid dividing by a very small\u001b[39;00m\n\u001b[1;32m    109\u001b[0m         \u001b[39m# value that could lead to surprising results and numerical\u001b[39;00m\n\u001b[1;32m    110\u001b[0m         \u001b[39m# stability issues.\u001b[39;00m\n\u001b[0;32m--> 111\u001b[0m         constant_mask \u001b[39m=\u001b[39m scale \u001b[39m<\u001b[39m \u001b[39m10\u001b[39m \u001b[39m*\u001b[39m np\u001b[39m.\u001b[39;49mfinfo(scale\u001b[39m.\u001b[39;49mdtype)\u001b[39m.\u001b[39meps\n\u001b[1;32m    113\u001b[0m     \u001b[39mif\u001b[39;00m copy:\n\u001b[1;32m    114\u001b[0m         \u001b[39m# New array to avoid side-effects\u001b[39;00m\n\u001b[1;32m    115\u001b[0m         scale \u001b[39m=\u001b[39m scale\u001b[39m.\u001b[39mcopy()\n",
      "File \u001b[0;32m/opt/homebrew/lib/python3.11/site-packages/numpy/core/getlimits.py:492\u001b[0m, in \u001b[0;36mfinfo.__new__\u001b[0;34m(cls, dtype)\u001b[0m\n\u001b[1;32m    490\u001b[0m     dtype \u001b[39m=\u001b[39m newdtype\n\u001b[1;32m    491\u001b[0m \u001b[39mif\u001b[39;00m \u001b[39mnot\u001b[39;00m \u001b[39missubclass\u001b[39m(dtype, numeric\u001b[39m.\u001b[39minexact):\n\u001b[0;32m--> 492\u001b[0m     \u001b[39mraise\u001b[39;00m \u001b[39mValueError\u001b[39;00m(\u001b[39m\"\u001b[39m\u001b[39mdata type \u001b[39m\u001b[39m%r\u001b[39;00m\u001b[39m not inexact\u001b[39m\u001b[39m\"\u001b[39m \u001b[39m%\u001b[39m (dtype))\n\u001b[1;32m    493\u001b[0m obj \u001b[39m=\u001b[39m \u001b[39mcls\u001b[39m\u001b[39m.\u001b[39m_finfo_cache\u001b[39m.\u001b[39mget(dtype, \u001b[39mNone\u001b[39;00m)\n\u001b[1;32m    494\u001b[0m \u001b[39mif\u001b[39;00m obj \u001b[39mis\u001b[39;00m \u001b[39mnot\u001b[39;00m \u001b[39mNone\u001b[39;00m:\n",
      "\u001b[0;31mValueError\u001b[0m: data type <class 'numpy.int64'> not inexact"
     ]
    }
   ],
   "source": [
    "import numpy as np\n",
    "from sklearn.preprocessing import _data\n",
    "\n",
    "def test_handle_zeros_in_scale():\n",
    "    s1 = np.array([0, 1, 2, 3])\n",
    "    s2 = _data._handle_zeros_in_scale(s1, copy=True)\n",
    "\n",
    "    print(s2)\n",
    "\n",
    "    # assert_false(s1[0] == s2[0])\n",
    "    # assert_array_equal(s1, np.array([0, 1, 2, 3]))\n",
    "    # assert_array_equal(s2, np.array([1, 1, 2, 3]))\n",
    "test_handle_zeros_in_scale()"
   ]
  }
 ],
 "metadata": {
  "kernelspec": {
   "display_name": "Python 3",
   "language": "python",
   "name": "python3"
  },
  "language_info": {
   "codemirror_mode": {
    "name": "ipython",
    "version": 3
   },
   "file_extension": ".py",
   "mimetype": "text/x-python",
   "name": "python",
   "nbconvert_exporter": "python",
   "pygments_lexer": "ipython3",
   "version": "3.11.4"
  },
  "orig_nbformat": 4
 },
 "nbformat": 4,
 "nbformat_minor": 2
}
